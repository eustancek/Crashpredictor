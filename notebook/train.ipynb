# %% [markdown]
# ## ðŸ“¦ 12. GitHub LFS Configuration for Jupyter Notebooks
# 
# *Ensures your notebook is properly tracked by GitHub LFS in Codespaces*
# %%
# Install and configure Git LFS for Jupyter Notebooks
print("ðŸ”§ Setting up GitHub LFS for Jupyter Notebooks...")

# Check if Git LFS is installed, if not install it
try:
    !git lfs version
except:
    print("ðŸ“¦ Installing Git LFS...")
    !sudo apt-get update -qq > /dev/null 2>&1
    !sudo apt-get install -y git-lfs > /dev/null 2>&1

# Initialize Git LFS
!git lfs install

# Configure LFS to track Jupyter Notebook files
!git lfs track "*.ipynb"
!git lfs track "*.pkl"
!git lfs track "*.png"
!git lfs track "*.h5"

# Make sure .gitattributes is properly configured
!echo "NOTE: This file is used by Git LFS to track large files" > .gitattributes
!git lfs track "*.ipynb" >> .gitattributes
!git lfs track "*.pkl" >> .gitattributes
!git lfs track "*.png" >> .gitattributes
!git lfs track "*.h5" >> .gitattributes

# Add the updated .gitattributes file
!git add .gitattributes

# Check LFS status
print("ðŸ“Š Current LFS tracking configuration:")
!git lfs track

# If the notebook is already in Git without LFS, fix it
print("\nðŸ”„ Ensuring train.ipynb is tracked by LFS...")
!git rm -rf --cached . > /dev/null 2>&1
!git add . > /dev/null 2>&1
!git status -s | grep '^.M' | awk '{print $2}' | xargs git add -f > /dev/null 2>&1

print("\nâœ… GitHub LFS configured for Jupyter Notebooks")
print("ðŸ’¡ Your train.ipynb will now be properly tracked by LFS in GitHub Codespaces")
print("ðŸ’¡ Next steps: Commit and push your changes to GitHub")
